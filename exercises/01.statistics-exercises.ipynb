{
 "cells": [
  {
   "cell_type": "markdown",
   "id": "da051409-2a4f-4537-97e9-ba64a5c9b05f",
   "metadata": {},
   "source": [
    "## Statistics Notebook exercises\n",
    "\n",
    "\n",
    "***"
   ]
  },
  {
   "cell_type": "markdown",
   "id": "3ca295ba-3e52-42ed-b072-9ba6ed106970",
   "metadata": {},
   "source": [
    "### Exercise 1\n",
    "***"
   ]
  },
  {
   "cell_type": "code",
   "execution_count": 7,
   "id": "dee72f6b-61a1-41df-a926-7509a5197d19",
   "metadata": {},
   "outputs": [
    {
     "data": {
      "text/plain": [
       "0.014285714285714285"
      ]
     },
     "execution_count": 7,
     "metadata": {},
     "output_type": "execute_result"
    }
   ],
   "source": [
    "# Probability of lady correctly choosing 4 cups out of 8 with milk in first is:\n",
    "\n",
    "1/70"
   ]
  },
  {
   "cell_type": "markdown",
   "id": "bdc6edd1-7df5-4b65-ba67-7ff7fc2e99f5",
   "metadata": {},
   "source": [
    "The example gives about a 1.5% chance of randomly selecting the correct cups. Calculate the minimum number of cups of tea required to ensure the probability of randomly selecting the correct cups is less than or equal to 1%.\n",
    "\n",
    "Bonus: How many would be required if you were to let the taster get one cup wrong while maintaining the 1% threshold?\n",
    "***\n"
   ]
  },
  {
   "cell_type": "code",
   "execution_count": 1,
   "id": "e79a35c6",
   "metadata": {},
   "outputs": [],
   "source": [
    "# Importing Math module\n",
    "import math"
   ]
  },
  {
   "cell_type": "markdown",
   "id": "4b89c9df-ea01-4052-a905-5beacbdc3f84",
   "metadata": {},
   "source": [
    "Using comb function to choose 4 cups out of 8, adapted from:<br>\n",
    "https://stackoverflow.com/a/4941932"
   ]
  },
  {
   "cell_type": "code",
   "execution_count": 5,
   "id": "784c635d-f694-471b-a386-ac0db3b2ad1e",
   "metadata": {},
   "outputs": [
    {
     "data": {
      "text/plain": [
       "70"
      ]
     },
     "execution_count": 5,
     "metadata": {},
     "output_type": "execute_result"
    }
   ],
   "source": [
    "# Number of way to select 4 cups out of 8.\n",
    "math.comb(8,4)"
   ]
  },
  {
   "cell_type": "code",
   "execution_count": 8,
   "id": "b667c30f-46c7-4901-b0e5-89284092ebe7",
   "metadata": {},
   "outputs": [
    {
     "data": {
      "text/plain": [
       "0.014285714285714285"
      ]
     },
     "execution_count": 8,
     "metadata": {},
     "output_type": "execute_result"
    }
   ],
   "source": [
    "# Probability of correctly choosing 4 cups out of 8 with milk first\n",
    "\n",
    "1/math.comb(8,4)"
   ]
  },
  {
   "cell_type": "code",
   "execution_count": 31,
   "id": "2c2f9d90-23fb-44e9-ae12-9c397463c9b5",
   "metadata": {},
   "outputs": [
    {
     "data": {
      "text/plain": [
       "0.017857142857142856"
      ]
     },
     "execution_count": 31,
     "metadata": {},
     "output_type": "execute_result"
    }
   ],
   "source": [
    "# Trying probability of correctly choosing 3 cups out of 8 with milk first\n",
    "\n",
    "1/math.comb(8,3)"
   ]
  },
  {
   "cell_type": "code",
   "execution_count": 32,
   "id": "c7339d81-9be5-44c3-b23e-a27fde306fa5",
   "metadata": {},
   "outputs": [
    {
     "data": {
      "text/plain": [
       "0.03571428571428571"
      ]
     },
     "execution_count": 32,
     "metadata": {},
     "output_type": "execute_result"
    }
   ],
   "source": [
    "# Trying probability of correctly choosing 6 cups out of 8 with milk first\n",
    "\n",
    "1/math.comb(8,6)"
   ]
  },
  {
   "cell_type": "markdown",
   "id": "ece583bb-4a7a-419f-89ec-1d2d8eefc803",
   "metadata": {},
   "source": [
    "After trials in changing correct cups does not get closer to probability of less or equal to 1%. Will try to decrease likelyhood of randomly selecting the correct cups by increasing sample of population."
   ]
  },
  {
   "cell_type": "code",
   "execution_count": 36,
   "id": "f8f17b7f-a9af-441a-8354-ba830f7ea43d",
   "metadata": {},
   "outputs": [
    {
     "data": {
      "text/plain": [
       "0.007936507936507936"
      ]
     },
     "execution_count": 36,
     "metadata": {},
     "output_type": "execute_result"
    }
   ],
   "source": [
    "1/math.comb(9,4)"
   ]
  },
  {
   "cell_type": "markdown",
   "id": "7b2bac0e-298a-4501-b7bc-06ea992658ee",
   "metadata": {},
   "source": [
    "The probability of randomly selecting the correct cups is less than or equal to 1%, when sample size is 9 with 4 observations.\n",
    "***"
   ]
  },
  {
   "cell_type": "markdown",
   "id": "77ca88b0-abb8-4370-ac46-ff687b513f3d",
   "metadata": {},
   "source": [
    "Bonus: How many would be required if you were to let the taster get one cup wrong while maintaining the 1% threshold?\n",
    "***"
   ]
  },
  {
   "cell_type": "markdown",
   "id": "179e9e83-6079-4746-8fa4-15f05d3dba23",
   "metadata": {},
   "source": [
    "We are looking to get 3 out of 4 choices correct within the sample targeting 1% probability."
   ]
  },
  {
   "cell_type": "code",
   "execution_count": 37,
   "id": "7350c52c-4f6b-43ff-b3d3-085b01653c6c",
   "metadata": {},
   "outputs": [
    {
     "data": {
      "text/plain": [
       "0.011904761904761904"
      ]
     },
     "execution_count": 37,
     "metadata": {},
     "output_type": "execute_result"
    }
   ],
   "source": [
    "# Checking probability the same sample size with choice of 3.\n",
    "1/math.comb(9,3)"
   ]
  },
  {
   "cell_type": "code",
   "execution_count": 38,
   "id": "32396c96-e036-40a2-b41c-070df8af00b2",
   "metadata": {},
   "outputs": [
    {
     "data": {
      "text/plain": [
       "0.008333333333333333"
      ]
     },
     "execution_count": 38,
     "metadata": {},
     "output_type": "execute_result"
    }
   ],
   "source": [
    "# Checking probability of sample size of 10 with choice of 3.\n",
    "1/math.comb(10,3)"
   ]
  },
  {
   "cell_type": "code",
   "execution_count": 40,
   "id": "a5ea8924-53b4-4166-93b1-7cc34059e551",
   "metadata": {},
   "outputs": [
    {
     "data": {
      "text/plain": [
       "0.006060606060606061"
      ]
     },
     "execution_count": 40,
     "metadata": {},
     "output_type": "execute_result"
    }
   ],
   "source": [
    "# Checking probability of sample size of 11 with choice of 3.\n",
    "1/math.comb(11,3)"
   ]
  },
  {
   "cell_type": "markdown",
   "id": "80eea96e-fa60-46d8-ae29-160635658260",
   "metadata": {},
   "source": [
    "Probability of choosing 4 tea cups with 3 done correctly is nearest one percent, where sample size is 10 with probability of 0.83%"
   ]
  },
  {
   "cell_type": "markdown",
   "id": "0e5c7a17-0e98-4f5f-9949-3b9c7493613d",
   "metadata": {},
   "source": [
    "***\n",
    "### Exercise 2\n",
    "***"
   ]
  },
  {
   "cell_type": "markdown",
   "id": "c0d89a91-6cf4-4430-849f-f9ef9edbafb1",
   "metadata": {},
   "source": [
    "Use scipy's version of Fisher's exact test to simulate the Lady Tasting Tea problem. https://docs.scipy.org/doc/scipy/reference/generated/scipy.stats.fisher_exact.html"
   ]
  },
  {
   "cell_type": "code",
   "execution_count": null,
   "id": "e0231248-91e2-490a-bd78-26c673441bf0",
   "metadata": {},
   "outputs": [],
   "source": []
  },
  {
   "cell_type": "code",
   "execution_count": null,
   "id": "c9daa0b7-2cba-47a2-9fa8-7b08686d3f50",
   "metadata": {},
   "outputs": [],
   "source": []
  },
  {
   "cell_type": "code",
   "execution_count": null,
   "id": "89a199ce-308e-4ddb-9679-31ea48ac6ed6",
   "metadata": {},
   "outputs": [],
   "source": []
  },
  {
   "cell_type": "code",
   "execution_count": null,
   "id": "a944f624-5992-4969-8526-6ff9b611a256",
   "metadata": {},
   "outputs": [],
   "source": []
  },
  {
   "cell_type": "code",
   "execution_count": null,
   "id": "2c6906f6-8369-484f-aaf9-447646ce926a",
   "metadata": {},
   "outputs": [],
   "source": []
  },
  {
   "cell_type": "code",
   "execution_count": null,
   "id": "a28dcb71-5157-4ab6-afc5-a0f73695cab5",
   "metadata": {},
   "outputs": [],
   "source": []
  },
  {
   "cell_type": "code",
   "execution_count": null,
   "id": "a11e7c8a-7b03-4ddc-ab6b-f41328ac24ab",
   "metadata": {},
   "outputs": [],
   "source": []
  },
  {
   "cell_type": "markdown",
   "id": "85d47035-558b-4ecf-9272-284ca40c4396",
   "metadata": {},
   "source": [
    "***\n",
    "### Exercise 3\n",
    "***"
   ]
  },
  {
   "cell_type": "markdown",
   "id": "7eb6b592-575b-48ab-96b3-8dce678334e3",
   "metadata": {},
   "source": [
    "Take the code from the Examples section of the scipy stats documentation for independent samples t-tests, add it to your own notebook and add explain how it works using MarkDown cells and code comments. Improve it in any way you think it could be improved.\n",
    "https://docs.scipy.org/doc/scipy/reference/generated/scipy.stats.ttest_ind.html"
   ]
  },
  {
   "cell_type": "code",
   "execution_count": null,
   "id": "8d95e3fe-fede-4eec-b3a4-08ab99f73d82",
   "metadata": {},
   "outputs": [],
   "source": []
  },
  {
   "cell_type": "code",
   "execution_count": null,
   "id": "7c866b43-cd3c-46b6-b38a-56b6368e6615",
   "metadata": {},
   "outputs": [],
   "source": []
  },
  {
   "cell_type": "code",
   "execution_count": null,
   "id": "1d9c1e12-5e18-4444-a66d-a56f2d5174e1",
   "metadata": {},
   "outputs": [],
   "source": []
  },
  {
   "cell_type": "code",
   "execution_count": null,
   "id": "d902f229-7290-49d9-8f93-57ce1ec2b7aa",
   "metadata": {},
   "outputs": [],
   "source": []
  },
  {
   "cell_type": "code",
   "execution_count": null,
   "id": "622c579e-3492-40e4-91bf-a33581468e3c",
   "metadata": {},
   "outputs": [],
   "source": []
  },
  {
   "cell_type": "code",
   "execution_count": null,
   "id": "669e9413-c961-4f9a-88fd-1300bab815f3",
   "metadata": {},
   "outputs": [],
   "source": []
  }
 ],
 "metadata": {
  "kernelspec": {
   "display_name": "Python 3 (ipykernel)",
   "language": "python",
   "name": "python3"
  },
  "language_info": {
   "codemirror_mode": {
    "name": "ipython",
    "version": 3
   },
   "file_extension": ".py",
   "mimetype": "text/x-python",
   "name": "python",
   "nbconvert_exporter": "python",
   "pygments_lexer": "ipython3",
   "version": "3.9.15"
  }
 },
 "nbformat": 4,
 "nbformat_minor": 5
}
