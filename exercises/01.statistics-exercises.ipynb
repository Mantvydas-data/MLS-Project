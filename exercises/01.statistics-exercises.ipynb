{
 "cells": [
  {
   "cell_type": "markdown",
   "id": "da051409-2a4f-4537-97e9-ba64a5c9b05f",
   "metadata": {},
   "source": [
    "## Statistics Notebook exercises\n",
    "\n",
    "\n",
    "***"
   ]
  },
  {
   "cell_type": "markdown",
   "id": "3ca295ba-3e52-42ed-b072-9ba6ed106970",
   "metadata": {},
   "source": [
    "### Exercise 1\n",
    "***"
   ]
  },
  {
   "cell_type": "markdown",
   "id": "bdc6edd1-7df5-4b65-ba67-7ff7fc2e99f5",
   "metadata": {},
   "source": [
    "Remember to do these exercises in your own notebook in your assessment repository.\n",
    "\n",
    "The above gives about a 1.5% chance of randomly selecting the correct cups. Calculate the minimum number of cups of tea required to ensure the probability of randomly selecting the correct cups is less than or equal to 1%.\n",
    "\n",
    "Bonus: How many would be required if you were to let the taster get one cup wrong while maintaining the 1% threshold?\n",
    "***\n"
   ]
  },
  {
   "cell_type": "code",
   "execution_count": null,
   "id": "e42b0d35-ce32-409c-b012-5efd745d10eb",
   "metadata": {},
   "outputs": [],
   "source": []
  },
  {
   "cell_type": "code",
   "execution_count": null,
   "id": "c4fbe27c-23e9-413f-a341-c5e554e473b7",
   "metadata": {},
   "outputs": [],
   "source": []
  },
  {
   "cell_type": "code",
   "execution_count": null,
   "id": "784c635d-f694-471b-a386-ac0db3b2ad1e",
   "metadata": {},
   "outputs": [],
   "source": []
  },
  {
   "cell_type": "code",
   "execution_count": null,
   "id": "b667c30f-46c7-4901-b0e5-89284092ebe7",
   "metadata": {},
   "outputs": [],
   "source": []
  },
  {
   "cell_type": "code",
   "execution_count": null,
   "id": "0c8f0ddf-9e0d-4437-96a7-6a1fb4e96907",
   "metadata": {},
   "outputs": [],
   "source": []
  },
  {
   "cell_type": "markdown",
   "id": "0e5c7a17-0e98-4f5f-9949-3b9c7493613d",
   "metadata": {},
   "source": [
    "***\n",
    "### Exercise 2\n",
    "***"
   ]
  },
  {
   "cell_type": "markdown",
   "id": "c0d89a91-6cf4-4430-849f-f9ef9edbafb1",
   "metadata": {},
   "source": [
    "Use scipy's version of Fisher's exact test to simulate the Lady Tasting Tea problem. https://docs.scipy.org/doc/scipy/reference/generated/scipy.stats.fisher_exact.html"
   ]
  },
  {
   "cell_type": "code",
   "execution_count": null,
   "id": "e0231248-91e2-490a-bd78-26c673441bf0",
   "metadata": {},
   "outputs": [],
   "source": []
  },
  {
   "cell_type": "code",
   "execution_count": null,
   "id": "c9daa0b7-2cba-47a2-9fa8-7b08686d3f50",
   "metadata": {},
   "outputs": [],
   "source": []
  },
  {
   "cell_type": "code",
   "execution_count": null,
   "id": "89a199ce-308e-4ddb-9679-31ea48ac6ed6",
   "metadata": {},
   "outputs": [],
   "source": []
  },
  {
   "cell_type": "code",
   "execution_count": null,
   "id": "a944f624-5992-4969-8526-6ff9b611a256",
   "metadata": {},
   "outputs": [],
   "source": []
  },
  {
   "cell_type": "code",
   "execution_count": null,
   "id": "2c6906f6-8369-484f-aaf9-447646ce926a",
   "metadata": {},
   "outputs": [],
   "source": []
  },
  {
   "cell_type": "code",
   "execution_count": null,
   "id": "a28dcb71-5157-4ab6-afc5-a0f73695cab5",
   "metadata": {},
   "outputs": [],
   "source": []
  },
  {
   "cell_type": "code",
   "execution_count": null,
   "id": "a11e7c8a-7b03-4ddc-ab6b-f41328ac24ab",
   "metadata": {},
   "outputs": [],
   "source": []
  },
  {
   "cell_type": "markdown",
   "id": "85d47035-558b-4ecf-9272-284ca40c4396",
   "metadata": {},
   "source": [
    "***\n",
    "### Exercise 3\n",
    "***"
   ]
  },
  {
   "cell_type": "markdown",
   "id": "7eb6b592-575b-48ab-96b3-8dce678334e3",
   "metadata": {},
   "source": [
    "Take the code from the Examples section of the scipy stats documentation for independent samples t-tests, add it to your own notebook and add explain how it works using MarkDown cells and code comments. Improve it in any way you think it could be improved.\n",
    "https://docs.scipy.org/doc/scipy/reference/generated/scipy.stats.ttest_ind.html"
   ]
  },
  {
   "cell_type": "code",
   "execution_count": null,
   "id": "8d95e3fe-fede-4eec-b3a4-08ab99f73d82",
   "metadata": {},
   "outputs": [],
   "source": []
  },
  {
   "cell_type": "code",
   "execution_count": null,
   "id": "7c866b43-cd3c-46b6-b38a-56b6368e6615",
   "metadata": {},
   "outputs": [],
   "source": []
  },
  {
   "cell_type": "code",
   "execution_count": null,
   "id": "1d9c1e12-5e18-4444-a66d-a56f2d5174e1",
   "metadata": {},
   "outputs": [],
   "source": []
  },
  {
   "cell_type": "code",
   "execution_count": null,
   "id": "d902f229-7290-49d9-8f93-57ce1ec2b7aa",
   "metadata": {},
   "outputs": [],
   "source": []
  },
  {
   "cell_type": "code",
   "execution_count": null,
   "id": "622c579e-3492-40e4-91bf-a33581468e3c",
   "metadata": {},
   "outputs": [],
   "source": []
  },
  {
   "cell_type": "code",
   "execution_count": null,
   "id": "669e9413-c961-4f9a-88fd-1300bab815f3",
   "metadata": {},
   "outputs": [],
   "source": []
  }
 ],
 "metadata": {
  "kernelspec": {
   "display_name": "Python 3 (ipykernel)",
   "language": "python",
   "name": "python3"
  },
  "language_info": {
   "codemirror_mode": {
    "name": "ipython",
    "version": 3
   },
   "file_extension": ".py",
   "mimetype": "text/x-python",
   "name": "python",
   "nbconvert_exporter": "python",
   "pygments_lexer": "ipython3",
   "version": "3.9.15"
  }
 },
 "nbformat": 4,
 "nbformat_minor": 5
}
