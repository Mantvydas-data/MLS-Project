{
 "cells": [
  {
   "cell_type": "markdown",
   "id": "da051409-2a4f-4537-97e9-ba64a5c9b05f",
   "metadata": {},
   "source": [
    "## Statistics Notebook exercises\n",
    "\n",
    "\n",
    "***"
   ]
  },
  {
   "cell_type": "markdown",
   "id": "3ca295ba-3e52-42ed-b072-9ba6ed106970",
   "metadata": {},
   "source": [
    "### Exercise 1\n",
    "***"
   ]
  },
  {
   "cell_type": "code",
   "execution_count": 1,
   "id": "dee72f6b-61a1-41df-a926-7509a5197d19",
   "metadata": {},
   "outputs": [
    {
     "data": {
      "text/plain": [
       "0.014285714285714285"
      ]
     },
     "execution_count": 1,
     "metadata": {},
     "output_type": "execute_result"
    }
   ],
   "source": [
    "# Probability of lady correctly choosing 4 cups out of 8 with milk in first is:\n",
    "\n",
    "1/70"
   ]
  },
  {
   "cell_type": "markdown",
   "id": "bdc6edd1-7df5-4b65-ba67-7ff7fc2e99f5",
   "metadata": {},
   "source": [
    "The example gives about a 1.5% chance of randomly selecting the correct cups. Calculate the minimum number of cups of tea required to ensure the probability of randomly selecting the correct cups is less than or equal to 1%.\n",
    "\n",
    "Bonus: How many would be required if you were to let the taster get one cup wrong while maintaining the 1% threshold?\n",
    "***\n"
   ]
  },
  {
   "cell_type": "code",
   "execution_count": 2,
   "id": "e79a35c6",
   "metadata": {},
   "outputs": [],
   "source": [
    "# Importing Math module\n",
    "import math"
   ]
  },
  {
   "cell_type": "markdown",
   "id": "4b89c9df-ea01-4052-a905-5beacbdc3f84",
   "metadata": {},
   "source": [
    "Using comb function to choose 4 cups out of 8, adapted from:<br>\n",
    "https://stackoverflow.com/a/4941932"
   ]
  },
  {
   "cell_type": "code",
   "execution_count": 3,
   "id": "784c635d-f694-471b-a386-ac0db3b2ad1e",
   "metadata": {},
   "outputs": [
    {
     "data": {
      "text/plain": [
       "70"
      ]
     },
     "execution_count": 3,
     "metadata": {},
     "output_type": "execute_result"
    }
   ],
   "source": [
    "# Number of way to select 4 cups out of 8.\n",
    "math.comb(8,4)"
   ]
  },
  {
   "cell_type": "code",
   "execution_count": 4,
   "id": "b667c30f-46c7-4901-b0e5-89284092ebe7",
   "metadata": {},
   "outputs": [
    {
     "data": {
      "text/plain": [
       "0.014285714285714285"
      ]
     },
     "execution_count": 4,
     "metadata": {},
     "output_type": "execute_result"
    }
   ],
   "source": [
    "# Probability of correctly choosing 4 cups out of 8 with milk first\n",
    "\n",
    "1/math.comb(8,4)"
   ]
  },
  {
   "cell_type": "code",
   "execution_count": 5,
   "id": "2c2f9d90-23fb-44e9-ae12-9c397463c9b5",
   "metadata": {},
   "outputs": [
    {
     "data": {
      "text/plain": [
       "0.017857142857142856"
      ]
     },
     "execution_count": 5,
     "metadata": {},
     "output_type": "execute_result"
    }
   ],
   "source": [
    "# Trying probability of correctly choosing 3 cups out of 8 with milk first\n",
    "\n",
    "1/math.comb(8,3)"
   ]
  },
  {
   "cell_type": "code",
   "execution_count": 6,
   "id": "c7339d81-9be5-44c3-b23e-a27fde306fa5",
   "metadata": {},
   "outputs": [
    {
     "data": {
      "text/plain": [
       "0.03571428571428571"
      ]
     },
     "execution_count": 6,
     "metadata": {},
     "output_type": "execute_result"
    }
   ],
   "source": [
    "# Trying probability of correctly choosing 6 cups out of 8 with milk first\n",
    "\n",
    "1/math.comb(8,6)"
   ]
  },
  {
   "cell_type": "markdown",
   "id": "ece583bb-4a7a-419f-89ec-1d2d8eefc803",
   "metadata": {},
   "source": [
    "After trials in changing correct cups does not get closer to probability of less or equal to 1%. Will try to decrease likelyhood of randomly selecting the correct cups by increasing sample of population."
   ]
  },
  {
   "cell_type": "code",
   "execution_count": 7,
   "id": "f8f17b7f-a9af-441a-8354-ba830f7ea43d",
   "metadata": {},
   "outputs": [
    {
     "data": {
      "text/plain": [
       "0.007936507936507936"
      ]
     },
     "execution_count": 7,
     "metadata": {},
     "output_type": "execute_result"
    }
   ],
   "source": [
    "1/math.comb(9,4)"
   ]
  },
  {
   "cell_type": "markdown",
   "id": "7b2bac0e-298a-4501-b7bc-06ea992658ee",
   "metadata": {},
   "source": [
    "The probability of randomly selecting the correct cups is less than or equal to 1%, when sample size is 9 with 4 observations.\n",
    "***"
   ]
  },
  {
   "cell_type": "markdown",
   "id": "77ca88b0-abb8-4370-ac46-ff687b513f3d",
   "metadata": {},
   "source": [
    "Bonus: How many would be required if you were to let the taster get one cup wrong while maintaining the 1% threshold?\n",
    "***"
   ]
  },
  {
   "cell_type": "markdown",
   "id": "179e9e83-6079-4746-8fa4-15f05d3dba23",
   "metadata": {},
   "source": [
    "We are looking to get 3 out of 4 choices correct within the sample targeting 1% probability."
   ]
  },
  {
   "cell_type": "code",
   "execution_count": 8,
   "id": "7350c52c-4f6b-43ff-b3d3-085b01653c6c",
   "metadata": {},
   "outputs": [
    {
     "data": {
      "text/plain": [
       "0.011904761904761904"
      ]
     },
     "execution_count": 8,
     "metadata": {},
     "output_type": "execute_result"
    }
   ],
   "source": [
    "# Checking probability the same sample size with choice of 3.\n",
    "1/math.comb(9,3)"
   ]
  },
  {
   "cell_type": "code",
   "execution_count": 9,
   "id": "32396c96-e036-40a2-b41c-070df8af00b2",
   "metadata": {},
   "outputs": [
    {
     "data": {
      "text/plain": [
       "0.008333333333333333"
      ]
     },
     "execution_count": 9,
     "metadata": {},
     "output_type": "execute_result"
    }
   ],
   "source": [
    "# Checking probability of sample size of 10 with choice of 3.\n",
    "1/math.comb(10,3)"
   ]
  },
  {
   "cell_type": "code",
   "execution_count": 10,
   "id": "a5ea8924-53b4-4166-93b1-7cc34059e551",
   "metadata": {},
   "outputs": [
    {
     "data": {
      "text/plain": [
       "0.006060606060606061"
      ]
     },
     "execution_count": 10,
     "metadata": {},
     "output_type": "execute_result"
    }
   ],
   "source": [
    "# Checking probability of sample size of 11 with choice of 3.\n",
    "1/math.comb(11,3)"
   ]
  },
  {
   "cell_type": "markdown",
   "id": "80eea96e-fa60-46d8-ae29-160635658260",
   "metadata": {},
   "source": [
    "Probability of choosing 4 tea cups with 3 done correctly is nearest one percent, where sample size is 10 with probability of 0.83%"
   ]
  },
  {
   "cell_type": "markdown",
   "id": "0e5c7a17-0e98-4f5f-9949-3b9c7493613d",
   "metadata": {},
   "source": [
    "***\n",
    "### Exercise 2\n",
    "***"
   ]
  },
  {
   "cell_type": "markdown",
   "id": "c0d89a91-6cf4-4430-849f-f9ef9edbafb1",
   "metadata": {},
   "source": [
    "Use scipy's version of Fisher's exact test to simulate the Lady Tasting Tea problem. Oficial documentation [here](https://docs.scipy.org/doc/scipy/reference/generated/scipy.stats.fisher_exact.html)"
   ]
  },
  {
   "cell_type": "markdown",
   "id": "3b72f8e2-7596-4af7-bd8a-b0898af8daa7",
   "metadata": {},
   "source": [
    "Fisher's exact test looks to identify if two categorical values have non-random/significant relationship. It is used when data can be arranged in 2x2 contingency table and one or more values is less than 5, othervise [Chi-Square Test of Independance](https://docs.scipy.org/doc/scipy/reference/generated/scipy.stats.chisquare.html) is used.  "
   ]
  },
  {
   "cell_type": "markdown",
   "id": "a46a6575-76f4-48d7-926a-3588593947cb",
   "metadata": {},
   "source": [
    "Lady tasting problem can be arranged in 2x2 contingency table assigning Tea tasting sample against the truth."
   ]
  },
  {
   "cell_type": "markdown",
   "id": "ed9cb8a1-b9e1-4f10-8341-675bba3c084a",
   "metadata": {},
   "source": [
    "| Truth\\Answer Received | Milk First | Tea First |\n",
    "| --------------------- | ---------- | --------- |\n",
    "| Milk First            |      4     |      0    | \n",
    "| Tea First             |      0     |      4    | "
   ]
  },
  {
   "cell_type": "code",
   "execution_count": 11,
   "id": "a944f624-5992-4969-8526-6ff9b611a256",
   "metadata": {},
   "outputs": [],
   "source": [
    "# IImporing Fisher's Exact test\n",
    "from scipy.stats import fisher_exact"
   ]
  },
  {
   "cell_type": "code",
   "execution_count": 12,
   "id": "2c6906f6-8369-484f-aaf9-447646ce926a",
   "metadata": {},
   "outputs": [
    {
     "data": {
      "text/plain": [
       "(inf, 0.028571428571428536)"
      ]
     },
     "execution_count": 12,
     "metadata": {},
     "output_type": "execute_result"
    }
   ],
   "source": [
    "# Applying Lady's tasting contingency table to Fisher's Exact test\n",
    "probvalue = fisher_exact([[4,0],[0,4]])\n",
    "probvalue"
   ]
  },
  {
   "cell_type": "code",
   "execution_count": 13,
   "id": "6811c80c-67a0-4c35-aacc-9265b5dfa1ff",
   "metadata": {},
   "outputs": [
    {
     "data": {
      "text/plain": [
       "0.014285714285714285"
      ]
     },
     "execution_count": 13,
     "metadata": {},
     "output_type": "execute_result"
    }
   ],
   "source": [
    "# The result we get is not the one we aimed for:\n",
    "1/math.comb(8,4)"
   ]
  },
  {
   "cell_type": "markdown",
   "id": "33da14d8-6db6-414a-9516-c948157046a3",
   "metadata": {},
   "source": [
    "As Fisher's Exact test defaults to two-sided test, it might be the cause to different result."
   ]
  },
  {
   "cell_type": "markdown",
   "id": "e8ffea99-fab2-4c6c-ad47-1a0c8c51848c",
   "metadata": {},
   "source": [
    "We look at the syntax options for Fisher's Exact test available in Scipy:<br>\n",
    "<b>scipy.stats.fisher_exact(table, alternative='two-sided')</b><br>\n",
    "First 2x2 contingency table is passed followed by optional alternative parameters:<br> ‘two-sided’- the odds ratio of the underlying population is not one.<br>\n",
    "‘less’- the odds ratio of the underlying population is less than one.<br>\n",
    "‘greater’- the odds ratio of the underlying population is greater than one.\n"
   ]
  },
  {
   "cell_type": "markdown",
   "id": "0090c652-1714-4c49-9a09-7b3a3bab6210",
   "metadata": {},
   "source": [
    "As lady tasting experiment should have underlying population odds ratio greater than one, 'greater' will be used."
   ]
  },
  {
   "cell_type": "code",
   "execution_count": 14,
   "id": "9c6005e7-9b0e-4dd4-84a0-f23d29c9f947",
   "metadata": {},
   "outputs": [
    {
     "data": {
      "text/plain": [
       "(inf, 0.014285714285714268)"
      ]
     },
     "execution_count": 14,
     "metadata": {},
     "output_type": "execute_result"
    }
   ],
   "source": [
    "# Applying alternative 'greater' parameter\n",
    "probvalue = fisher_exact([[4,0],[0,4]], alternative='greater')\n",
    "probvalue"
   ]
  },
  {
   "cell_type": "markdown",
   "id": "b29fd546-3a4b-4c29-8a66-e7e8acdfc398",
   "metadata": {},
   "source": [
    "Result is matching expected value with rounding difference that is overall not material."
   ]
  },
  {
   "cell_type": "markdown",
   "id": "f3b9af46-113f-493d-b89e-e6ca51457b89",
   "metadata": {},
   "source": [
    "References:<br>\n",
    "https://www.cs.utah.edu/~jeffp/teaching/cs3130/lectures/L15-HypothesisTests1.pdf<br>\n",
    "https://www.pluralsight.com/guides/working-tables-github-markdown<br>\n",
    "https://www.reneshbedre.com/blog/fisher-exact-test-python.html<br>\n"
   ]
  },
  {
   "cell_type": "markdown",
   "id": "85d47035-558b-4ecf-9272-284ca40c4396",
   "metadata": {},
   "source": [
    "***\n",
    "### Exercise 3\n",
    "***"
   ]
  },
  {
   "cell_type": "markdown",
   "id": "7eb6b592-575b-48ab-96b3-8dce678334e3",
   "metadata": {},
   "source": [
    "Take the code from the Examples section of the scipy stats [documentation](https://docs.scipy.org/doc/scipy/reference/generated/scipy.stats.ttest_ind.html) for independent samples t-tests, add it to your own notebook and add explain how it works using MarkDown cells and code comments. Improve it in any way you think it could be improved.\n"
   ]
  },
  {
   "cell_type": "markdown",
   "id": "d4756d23-5b5e-43b0-ad05-302be4db22dc",
   "metadata": {},
   "source": [
    "#### T-Test\n",
    "T-Test is statistical test to determine if there is a significant difference between the means of two populations. It is calculated by dividing variance between groups from variance within groups. [Geeksforgeeks](https://www.geeksforgeeks.org/t-test/)\n",
    "\n",
    "* Large t-value means two groups under test belongs to different groups.\n",
    "* Small t-value means two two groups under test belongs to the same groups.\n",
    "\n",
    "The null hipotesis for T test is that both samples are drawn from populations with the same population means. If probability is less than pre-set tolerance threshold- there are enough evidence to reject null hipotesis."
   ]
  },
  {
   "cell_type": "code",
   "execution_count": 15,
   "id": "8d95e3fe-fede-4eec-b3a4-08ab99f73d82",
   "metadata": {},
   "outputs": [],
   "source": [
    "# Importing required packages\n",
    "import numpy as np\n",
    "import matplotlib.pyplot as plt\n",
    "import seaborn as sns\n",
    "from scipy import stats"
   ]
  },
  {
   "cell_type": "markdown",
   "id": "6184e311-da2b-4529-89b3-c2da38a04cbf",
   "metadata": {},
   "source": [
    "Numpy versions released following v1.17.0 can be set up with different types of generators that provides improved statistical properties compared against legacy Mersenne Twister pseudo-random number generator. In the new version 64bit Permuted Congruential Generator is used as a default. Method uses two steps for random number generation: BitGenerator produces random values, Generator uses these values to create requested distributions equivalents. [Numpy-Random Sampling](https://numpy.org/doc/stable/reference/random/index.html)"
   ]
  },
  {
   "cell_type": "code",
   "execution_count": 16,
   "id": "7c866b43-cd3c-46b6-b38a-56b6368e6615",
   "metadata": {},
   "outputs": [],
   "source": [
    "# Function to gnerate random data\n",
    "rng = np.random.default_rng()"
   ]
  },
  {
   "cell_type": "markdown",
   "id": "b5770aa9-9f3f-4d13-aef4-b1a953d11f8f",
   "metadata": {},
   "source": [
    "Reproduceable random data can be generated using seed parameter. It pre-sets generator to use the same pattern prividing same output each time."
   ]
  },
  {
   "cell_type": "markdown",
   "id": "7c7fe515-fce5-4282-a4ab-cf90d26ae8e6",
   "metadata": {},
   "source": [
    "stats.norm.rvs function generating random variates with function parameters loc- specifying the mean, scale- specifying standard deviation, size- sets required output size where random_state- notes seeded or unseeded number generator."
   ]
  },
  {
   "cell_type": "code",
   "execution_count": 24,
   "id": "1d9c1e12-5e18-4444-a66d-a56f2d5174e1",
   "metadata": {},
   "outputs": [
    {
     "data": {
      "text/plain": [
       "Ttest_indResult(statistic=0.04724676068546204, pvalue=0.962326012059232)"
      ]
     },
     "execution_count": 24,
     "metadata": {},
     "output_type": "execute_result"
    }
   ],
   "source": [
    "# Generating two arrays of random normal distribution variates \n",
    "# Mean is set at 5, standard deviation is 10 with sample size of 500\n",
    "rvs1 = stats.norm.rvs(loc=5, scale=10, size=500, random_state=rng)\n",
    "rvs2 = stats.norm.rvs(loc=5, scale=10, size=500, random_state=rng)\n",
    "\n",
    "# Generating T-test with equal population variance as True by default\n",
    "stats.ttest_ind(rvs1, rvs2)"
   ]
  },
  {
   "cell_type": "code",
   "execution_count": 25,
   "id": "7650ad11-9da7-48e9-9557-802e1d6c16d7",
   "metadata": {},
   "outputs": [
    {
     "data": {
      "text/plain": [
       "Ttest_indResult(statistic=0.04724676068546204, pvalue=0.962326020997156)"
      ]
     },
     "execution_count": 25,
     "metadata": {},
     "output_type": "execute_result"
    }
   ],
   "source": [
    "# Generating T-test with equal population variance as False\n",
    "stats.ttest_ind(rvs1, rvs2, equal_var=False)"
   ]
  },
  {
   "cell_type": "markdown",
   "id": "79569f75-cfa0-45b2-83a0-c9a99c353b90",
   "metadata": {},
   "source": [
    "Comment and graph?"
   ]
  },
  {
   "cell_type": "code",
   "execution_count": 18,
   "id": "d902f229-7290-49d9-8f93-57ce1ec2b7aa",
   "metadata": {},
   "outputs": [
    {
     "data": {
      "text/plain": [
       "Ttest_indResult(statistic=1.617153701115667, pvalue=0.10627528011717179)"
      ]
     },
     "execution_count": 18,
     "metadata": {},
     "output_type": "execute_result"
    }
   ],
   "source": [
    "# Generating array of random normal distribution variates\n",
    "# Mean is set at 5, standard deviation is 20 with sample size of 500\n",
    "rvs3 = stats.norm.rvs(loc=5, scale=20, size=500, random_state=rng)\n",
    "stats.ttest_ind(rvs1, rvs3)\n",
    "stats.ttest_ind(rvs1, rvs3, equal_var=False)"
   ]
  },
  {
   "cell_type": "code",
   "execution_count": null,
   "id": "bc7d31bb-dab1-4031-81c8-6987d1137d00",
   "metadata": {},
   "outputs": [],
   "source": [
    "Comment and graph?"
   ]
  },
  {
   "cell_type": "code",
   "execution_count": 19,
   "id": "622c579e-3492-40e4-91bf-a33581468e3c",
   "metadata": {},
   "outputs": [
    {
     "data": {
      "text/plain": [
       "Ttest_indResult(statistic=-0.22236441782338115, pvalue=0.8244517034078342)"
      ]
     },
     "execution_count": 19,
     "metadata": {},
     "output_type": "execute_result"
    }
   ],
   "source": [
    "# Generating array of random normal distribution variates\n",
    "# Mean is set at 5, standard deviation is 20 with sample size of 100\n",
    "rvs4 = stats.norm.rvs(loc=5, scale=20, size=100, random_state=rng)\n",
    "stats.ttest_ind(rvs1, rvs4)\n",
    "stats.ttest_ind(rvs1, rvs4, equal_var=False)"
   ]
  },
  {
   "cell_type": "code",
   "execution_count": null,
   "id": "6c628eac-944f-42f9-b8f6-e9e957b585e2",
   "metadata": {},
   "outputs": [],
   "source": [
    "Comment and graph?"
   ]
  },
  {
   "cell_type": "code",
   "execution_count": 27,
   "id": "669e9413-c961-4f9a-88fd-1300bab815f3",
   "metadata": {},
   "outputs": [
    {
     "data": {
      "text/plain": [
       "Ttest_indResult(statistic=-1.726753131609205, pvalue=0.08699910884299521)"
      ]
     },
     "execution_count": 27,
     "metadata": {},
     "output_type": "execute_result"
    }
   ],
   "source": [
    "# Generating array of random normal distribution variates\n",
    "# Mean is set at 8, standard deviation is 20 with sample size of 100\n",
    "rvs5 = stats.norm.rvs(loc=8, scale=20, size=100, random_state=rng)\n",
    "stats.ttest_ind(rvs1, rvs5)\n",
    "stats.ttest_ind(rvs1, rvs5, equal_var=False)"
   ]
  },
  {
   "cell_type": "code",
   "execution_count": null,
   "id": "88697e74-0cb1-485c-82f4-30f4a3d97ea8",
   "metadata": {},
   "outputs": [],
   "source": [
    "Comment and graph?"
   ]
  },
  {
   "cell_type": "code",
   "execution_count": 21,
   "id": "a2ac77ab-0303-4cbc-8922-085e55ee1e4a",
   "metadata": {},
   "outputs": [
    {
     "data": {
      "text/plain": [
       "Ttest_indResult(statistic=-4.339261876640136, pvalue=0.0)"
      ]
     },
     "execution_count": 21,
     "metadata": {},
     "output_type": "execute_result"
    }
   ],
   "source": [
    "stats.ttest_ind(rvs1, rvs5, permutations=10000, random_state=rng)"
   ]
  },
  {
   "cell_type": "code",
   "execution_count": 29,
   "id": "68cc4924-e3fe-4d78-9307-ec92ac7d0034",
   "metadata": {},
   "outputs": [],
   "source": [
    "# Two data touples\n",
    "a = (56, 128.6, 12, 123.8, 64.34, 78, 763.3)\n",
    "b = (1.1, 2.9, 4.2)"
   ]
  },
  {
   "cell_type": "code",
   "execution_count": null,
   "id": "864dbe9c-a940-46fd-a848-9cedcaeaab15",
   "metadata": {},
   "outputs": [],
   "source": [
    "Trim parameter "
   ]
  },
  {
   "cell_type": "code",
   "execution_count": 23,
   "id": "56d7daef-8e18-42d7-be66-9570df7fbc0d",
   "metadata": {},
   "outputs": [
    {
     "data": {
      "text/plain": [
       "Ttest_indResult(statistic=3.4463884028073513, pvalue=0.01369338726499547)"
      ]
     },
     "execution_count": 23,
     "metadata": {},
     "output_type": "execute_result"
    }
   ],
   "source": [
    "# Generating T-test for a and b \n",
    "stats.ttest_ind(a, b, trim=.2)"
   ]
  },
  {
   "cell_type": "code",
   "execution_count": null,
   "id": "e45f7540-5a5e-4158-8b62-7530ebcdedf7",
   "metadata": {},
   "outputs": [],
   "source": [
    "Comment and graph?"
   ]
  },
  {
   "cell_type": "code",
   "execution_count": null,
   "id": "3b7e0f05-baf6-4eb3-936b-b43716773877",
   "metadata": {},
   "outputs": [],
   "source": []
  },
  {
   "cell_type": "markdown",
   "id": "60ec5bf5-b5c9-492b-a4ac-34a550f25456",
   "metadata": {},
   "source": [
    "References:<br>\n",
    "https://en.wikipedia.org/wiki/Student's_t-test<br>\n",
    "https://www.geeksforgeeks.org/t-test/<br>\n",
    "https://www.investopedia.com/terms/t/t-test.asp<br>"
   ]
  }
 ],
 "metadata": {
  "kernelspec": {
   "display_name": "Python 3 (ipykernel)",
   "language": "python",
   "name": "python3"
  },
  "language_info": {
   "codemirror_mode": {
    "name": "ipython",
    "version": 3
   },
   "file_extension": ".py",
   "mimetype": "text/x-python",
   "name": "python",
   "nbconvert_exporter": "python",
   "pygments_lexer": "ipython3",
   "version": "3.9.15"
  }
 },
 "nbformat": 4,
 "nbformat_minor": 5
}
