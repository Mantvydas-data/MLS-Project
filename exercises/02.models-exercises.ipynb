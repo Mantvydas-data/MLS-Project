{
 "cells": [
  {
   "cell_type": "markdown",
   "id": "1b4b9a5d-d6bd-4517-8604-5216f99b84bc",
   "metadata": {},
   "source": [
    "## Models Notebook exercises\n",
    "\n",
    "\n",
    "***"
   ]
  },
  {
   "cell_type": "markdown",
   "id": "ca087af6-7d97-4820-a8f4-503f130a7b41",
   "metadata": {},
   "source": [
    "### Exercise 1\n",
    "***"
   ]
  },
  {
   "cell_type": "markdown",
   "id": "74569dae-fc01-448c-86d6-ec66f884a2ae",
   "metadata": {},
   "source": [
    "Use numpy and matplotlib to plot the absolute value function.\n",
    "\n",
    "Research and explain why the absolute value function is not typically used in fitting straight lines to data."
   ]
  },
  {
   "cell_type": "code",
   "execution_count": null,
   "id": "ed84369f-f3ee-489a-8283-9c87b8096b45",
   "metadata": {},
   "outputs": [],
   "source": []
  },
  {
   "cell_type": "code",
   "execution_count": null,
   "id": "a4d23de2-b54c-42c5-aea2-117299f59591",
   "metadata": {},
   "outputs": [],
   "source": []
  },
  {
   "cell_type": "code",
   "execution_count": null,
   "id": "94145d2b-f997-4cc4-a58e-53957b64b3fd",
   "metadata": {},
   "outputs": [],
   "source": []
  },
  {
   "cell_type": "code",
   "execution_count": null,
   "id": "6ec46bbe-4603-4a8b-9adc-3a1445fe4eb5",
   "metadata": {},
   "outputs": [],
   "source": []
  },
  {
   "cell_type": "markdown",
   "id": "6fdb7e9d-9f74-4cab-ac79-a77863bd3074",
   "metadata": {},
   "source": [
    "***\n",
    "### Exercise 2\n",
    "***"
   ]
  },
  {
   "cell_type": "markdown",
   "id": "5bfb222f-d5d0-45e7-aa0b-eec21bf3544b",
   "metadata": {},
   "source": [
    "Fit a straight line to the following data points, using all three methods used above.\n",
    "\n",
    "Do you think a straight line is a good model for these points?\n",
    "\n",
    "x = [2.0, 3.0, 4.0, 5.0, 6.0, 7.0, 8.0, 9.0, 10.0, 11.0, 12.0, 13.0, 14.0, 15.0, 16.0, 17.0, 18.0, 19.0, 20.0] </br>\n",
    "y = [0.7, 1.1, 1.5, 1.6, 1.7, 2.0, 2.3, 2.4, 2.2, 2.1, 2.4, 2.6, 2.2, 2.7, 2.5, 2.7, 2.8, 2.9, 3.1]"
   ]
  },
  {
   "cell_type": "code",
   "execution_count": null,
   "id": "7d44fae0-3f0c-4006-8eb1-61453c1b709c",
   "metadata": {},
   "outputs": [],
   "source": []
  },
  {
   "cell_type": "code",
   "execution_count": null,
   "id": "044ce578-c270-4ae0-9b51-c6b564bb815a",
   "metadata": {},
   "outputs": [],
   "source": []
  },
  {
   "cell_type": "code",
   "execution_count": null,
   "id": "62dae52f-6091-4b1d-aa54-3668389ecb89",
   "metadata": {},
   "outputs": [],
   "source": []
  },
  {
   "cell_type": "code",
   "execution_count": null,
   "id": "38a2f75e-2591-448d-beb6-f87330561f55",
   "metadata": {},
   "outputs": [],
   "source": []
  }
 ],
 "metadata": {
  "kernelspec": {
   "display_name": "Python 3 (ipykernel)",
   "language": "python",
   "name": "python3"
  },
  "language_info": {
   "codemirror_mode": {
    "name": "ipython",
    "version": 3
   },
   "file_extension": ".py",
   "mimetype": "text/x-python",
   "name": "python",
   "nbconvert_exporter": "python",
   "pygments_lexer": "ipython3",
   "version": "3.9.15"
  }
 },
 "nbformat": 4,
 "nbformat_minor": 5
}
